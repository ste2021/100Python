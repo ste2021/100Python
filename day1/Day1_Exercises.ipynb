{
 "cells": [
  {
   "cell_type": "code",
   "execution_count": null,
   "metadata": {},
   "outputs": [],
   "source": [
    "print(\"Day 1 - Python Print Function\")\n",
    "print(\"The function is declared like this:\")\n",
    "print(\"print('what to print')\")"
   ]
  },
  {
   "cell_type": "code",
   "execution_count": null,
   "metadata": {},
   "outputs": [],
   "source": [
    "# Fix the code below\n",
    "st_mais = \"\\\"+\\\"\"\n",
    "st_hello = \"\\\"Hello \\\"\"\n",
    "st_world = \"\\\"world\\\"\"\n",
    "\n",
    "# 1 - Missing double quotes before the word Day.\n",
    "# print(Day 1 - String Manipulation\")\n",
    "print(\"Day 1 - String Manipulation\")\n",
    "\n",
    "# 2 - Outer double quotes changed to single quotes.\n",
    "# print(f'String Concatenation is done with the {st_mais} sign.')\n",
    "print(f'String Concatenation is done with the {st_mais} sign.')\n",
    "\n",
    "# 3 - Extra indentation removed\n",
    "# print(f'e.g. print({st_hello} + {st_world})')\n",
    "print(f'e.g. print({st_hello} + {st_world})')\n",
    "\n",
    "# 4 - Extra (in print function removed)\n",
    "# print(\"New lines can be created with a backslash and n.\")\n",
    "print(\"New lines can be created with a backslash and n.\")"
   ]
  },
  {
   "cell_type": "code",
   "execution_count": null,
   "metadata": {},
   "outputs": [],
   "source": [
    "print(\"hELLO WORLD\\nHello world!\\nHello world!\")"
   ]
  },
  {
   "cell_type": "code",
   "execution_count": 1,
   "metadata": {},
   "outputs": [
    {
     "name": "stdout",
     "output_type": "stream",
     "text": [
      "oi\n"
     ]
    }
   ],
   "source": [
    "print(\"oi\")"
   ]
  },
  {
   "cell_type": "markdown",
   "metadata": {},
   "source": []
  }
 ],
 "metadata": {
  "kernelspec": {
   "display_name": "Python 3.10.4 ('venv': venv)",
   "language": "python",
   "name": "python3"
  },
  "language_info": {
   "codemirror_mode": {
    "name": "ipython",
    "version": 3
   },
   "file_extension": ".py",
   "mimetype": "text/x-python",
   "name": "python",
   "nbconvert_exporter": "python",
   "pygments_lexer": "ipython3",
   "version": "3.10.4"
  },
  "orig_nbformat": 4,
  "vscode": {
   "interpreter": {
    "hash": "47456e6ab12133e180d8ed9888ed96ea61920fb67760319b4191ffc70010bfbb"
   }
  }
 },
 "nbformat": 4,
 "nbformat_minor": 2
}

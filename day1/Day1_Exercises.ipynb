{
 "cells": [
  {
   "cell_type": "code",
   "execution_count": null,
   "metadata": {},
   "outputs": [],
   "source": [
    "print(\"Day 1 - Python Print Function\")\n",
    "print(\"The function is declared like this:\")\n",
    "print(\"print('what to print')\")"
   ]
  },
  {
   "cell_type": "code",
   "execution_count": null,
   "metadata": {},
   "outputs": [],
   "source": [
    "# Exercise 2\n",
    "\n",
    "# Fix the code below\n",
    "st_mais = \"\\\"+\\\"\"\n",
    "st_hello = \"\\\"Hello \\\"\"\n",
    "st_world = \"\\\"world\\\"\"\n",
    "\n",
    "# 1 - Missing double quotes before the word Day.\n",
    "# print(Day 1 - String Manipulation\")\n",
    "print(\"Day 1 - String Manipulation\")\n",
    "\n",
    "# 2 - Outer double quotes changed to single quotes.\n",
    "# print(f'String Concatenation is done with the {st_mais} sign.')\n",
    "print(f'String Concatenation is done with the {st_mais} sign.')\n",
    "\n",
    "# 3 - Extra indentation removed\n",
    "# print(f'e.g. print({st_hello} + {st_world})')\n",
    "print(f'e.g. print({st_hello} + {st_world})')\n",
    "\n",
    "# 4 - Extra (in print function removed)\n",
    "# print(\"New lines can be created with a backslash and n.\")\n",
    "print(\"New lines can be created with a backslash and n.\")"
   ]
  },
  {
   "cell_type": "code",
   "execution_count": 1,
   "metadata": {},
   "outputs": [
    {
     "name": "stdout",
     "output_type": "stream",
     "text": [
      "hELLO WORLD\n",
      "Hello world!\n",
      "Hello world!\n"
     ]
    }
   ],
   "source": [
    "print(\"hELLO WORLD\\nHello world!\\nHello world!\")"
   ]
  },
  {
   "cell_type": "code",
   "execution_count": 1,
   "metadata": {},
   "outputs": [
    {
     "data": {
      "text/plain": [
       "''"
      ]
     },
     "execution_count": 1,
     "metadata": {},
     "output_type": "execute_result"
    }
   ],
   "source": [
    "# Exercise 3\n",
    "\n",
    "# Input () will get user input in console\n",
    "# Then b\n",
    "\n",
    "input(\"What is your name?\")"
   ]
  },
  {
   "cell_type": "code",
   "execution_count": 2,
   "metadata": {},
   "outputs": [],
   "source": [
    "# Your program should work for different inputs. e.g. any name that you input.\n",
    "\n",
    "def input_function():\n",
    "\n",
    "    input1 = input(\"Qual o seu nome?\")\n",
    "    if input1 == 'Angela':\n",
    "        print(6)\n",
    "\n",
    "input_function()"
   ]
  },
  {
   "cell_type": "code",
   "execution_count": null,
   "metadata": {},
   "outputs": [],
   "source": []
  }
 ],
 "metadata": {
  "kernelspec": {
   "display_name": "Python 3.10.4 64-bit",
   "language": "python",
   "name": "python3"
  },
  "language_info": {
   "codemirror_mode": {
    "name": "ipython",
    "version": 3
   },
   "file_extension": ".py",
   "mimetype": "text/x-python",
   "name": "python",
   "nbconvert_exporter": "python",
   "pygments_lexer": "ipython3",
   "version": "3.10.4"
  },
  "orig_nbformat": 4,
  "vscode": {
   "interpreter": {
    "hash": "916dbcbb3f70747c44a77c7bcd40155683ae19c65e1c03b4aa3499c5328201f1"
   }
  }
 },
 "nbformat": 4,
 "nbformat_minor": 2
}

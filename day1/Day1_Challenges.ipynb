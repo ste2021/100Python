{
 "cells": [
  {
   "cell_type": "markdown",
   "metadata": {},
   "source": [
    "## Python 100 Days of Code \n",
    "\n",
    "### Notes of Exercises and Challenges "
   ]
  },
  {
   "cell_type": "code",
   "execution_count": null,
   "metadata": {},
   "outputs": [],
   "source": [
    "# Exercise 1.1\n",
    "\n",
    "print(\"Day 1 - Python Print Function\")\n",
    "print(\"The function is declared like this:\")\n",
    "print(\"print('what to print')\")"
   ]
  },
  {
   "cell_type": "code",
   "execution_count": null,
   "metadata": {},
   "outputs": [],
   "source": [
    "# Exercise 1.2\n",
    "\n",
    "# Look at the code in the code editor on the right. There are errors in all of the lines of code. \n",
    "# Fix the code so that it runs without errors.\n",
    "\n",
    "# Fix the code below\n",
    "st_mais = \"\\\"+\\\"\"\n",
    "st_hello = \"\\\"Hello \\\"\"\n",
    "st_world = \"\\\"world\\\"\"\n",
    "\n",
    "# 1 - Missing double quotes before the word Day.\n",
    "# print(Day 1 - String Manipulation\")\n",
    "print(\"Day 1 - String Manipulation\")\n",
    "\n",
    "# 2 - Outer double quotes changed to single quotes.\n",
    "# print(f'String Concatenation is done with the {st_mais} sign.')\n",
    "print(f'String Concatenation is done with the {st_mais} sign.')\n",
    "\n",
    "# 3 - Extra indentation removed\n",
    "# print(f'e.g. print({st_hello} + {st_world})')\n",
    "print(f'e.g. print({st_hello} + {st_world})')\n",
    "\n",
    "# 4 - Extra (in print function removed)\n",
    "# print(\"New lines can be created with a backslash and n.\")\n",
    "print(\"New lines can be created with a backslash and n.\")"
   ]
  },
  {
   "cell_type": "code",
   "execution_count": 2,
   "metadata": {},
   "outputs": [],
   "source": [
    "# Exercise 1.3\n",
    "\n",
    "# Write a program that prints the number of characters in a user's name. \n",
    "# You might need to Google for a function that calculates the length of a string.\n",
    "\n",
    "def input_function():\n",
    "\n",
    "    input1 = input(\"What is your name?\")\n",
    "    print_len = len(input1)\n",
    "    if len(input1) > 0:\n",
    "        print(str(print_len))\n",
    "\n",
    "input_function()"
   ]
  },
  {
   "cell_type": "code",
   "execution_count": null,
   "metadata": {},
   "outputs": [],
   "source": [
    "# Exercise 1.4\n",
    "\n",
    "# Write a program that switches the values stored in the variables a and b.\n",
    "\n",
    "# 🚨 Don't change the code below 👇\n",
    "a = input(\"a: \")\n",
    "b = input(\"b: \")\n",
    "# 🚨 Don't change the code above 👆\n",
    "\n",
    "####################################\n",
    "#Write your code below this line 👇\n",
    "\n",
    "c = a\n",
    "a = b\n",
    "b = c\n",
    "\n",
    "#Write your code above this line 👆\n",
    "####################################\n",
    "\n",
    "# 🚨 Don't change the code below 👇\n",
    "print(\"a: \" + a)\n",
    "print(\"b: \" + b)\n"
   ]
  },
  {
   "cell_type": "markdown",
   "metadata": {},
   "source": [
    "#### Final Challenge - Band Generator"
   ]
  },
  {
   "cell_type": "code",
   "execution_count": null,
   "metadata": {},
   "outputs": [],
   "source": [
    "#1. Create a greeting for your program.\n",
    "#2. Ask the user for the city that they grew up in.\n",
    "#3. Ask the user for the name of a pet.\n",
    "#4. Combine the name of their city and pet and show them their band name.\n",
    "#5. Make sure the input cursor shows on a new line, see the example at:\n",
    "#   https://replit.com/@appbrewery/band-name-generator-end\n",
    "\n",
    "print(\"Hi there! Are you confused with ur band name? We are here to help\")\n",
    "\n",
    "Name1 = input(\"Enter your city you grew up in: \\n \")\n",
    "Name2 = input(\"Enter your pet's name: \\n \")\n",
    "final = Name1 + \" \"+Name2\n",
    "\n",
    "print(\"Congratulations! Your new band name is \"+ final)"
   ]
  }
 ],
 "metadata": {
  "kernelspec": {
   "display_name": "Python 3.10.4 64-bit",
   "language": "python",
   "name": "python3"
  },
  "language_info": {
   "codemirror_mode": {
    "name": "ipython",
    "version": 3
   },
   "file_extension": ".py",
   "mimetype": "text/x-python",
   "name": "python",
   "nbconvert_exporter": "python",
   "pygments_lexer": "ipython3",
   "version": "3.10.4"
  },
  "orig_nbformat": 4,
  "vscode": {
   "interpreter": {
    "hash": "916dbcbb3f70747c44a77c7bcd40155683ae19c65e1c03b4aa3499c5328201f1"
   }
  }
 },
 "nbformat": 4,
 "nbformat_minor": 2
}
